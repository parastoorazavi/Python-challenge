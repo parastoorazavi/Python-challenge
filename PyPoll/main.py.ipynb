{
 "cells": [
  {
   "cell_type": "code",
   "execution_count": 84,
   "metadata": {},
   "outputs": [
    {
     "name": "stdout",
     "output_type": "stream",
     "text": [
      "Election Results\n",
      "-------------------------\n",
      "Total Votes: 3521001\n",
      "-------------------------\n",
      "Khan : 63.0 %    ( 2218231 )\n",
      "Correy : 20.0 %    ( 704200 )\n",
      "Li : 14.0 %    ( 492940 )\n",
      "O'Tooley : 3.0 %    ( 105630 )\n",
      "-------------------------\n",
      "Winner: Khan\n",
      "-------------------------\n"
     ]
    }
   ],
   "source": [
    "# Modules\n",
    "import os\n",
    "import csv\n",
    "\n",
    "# set our Resource path and output file for printing result\n",
    "find_path = \"Resources/02-Homework_03-Python_Instructions_PyPoll_Resources_election_data.csv\"\n",
    "output_file = \"Election Results.csv\"\n",
    "\n",
    "# Open the CSV\n",
    "with open(find_path) as csv_file:\n",
    "    csv_reader = csv.reader(csv_file, delimiter=',')\n",
    "    csv_header = next(csv_reader)\n",
    "    \n",
    "    total_votes = 0\n",
    "    candidates_votes = {}\n",
    "    winner_count = 0\n",
    "    \n",
    "    # Loop through looking for canditates\n",
    "    for row in csv_reader:\n",
    "\n",
    "        # The total number of votes cast\n",
    "        total_votes = total_votes + 1\n",
    "        \n",
    "        # A complete list of candidates who received votes and The total number of votes each candidate won\n",
    "        if row[2] in candidates_votes:\n",
    "            candidates_votes[row[2]] += 1\n",
    "        else:\n",
    "            candidates_votes[row[2]] = 1\n",
    "            \n",
    "        # The percentage of votes each candidate won\n",
    "        for key, velue in candidates_votes.items():\n",
    "            percent_candidates_votes[key] =round((velue/total_votes)* 100 , 3)\n",
    "        \n",
    "        # The winner of the election based on popular vote.\n",
    "            if percent_candidates_votes[key] > winner_count:\n",
    "                winner_count = candidates_votes[key]\n",
    "                winner = key\n",
    "    \n",
    "# print the result on terminal    \n",
    "print(f\"Election Results\")\n",
    "print(f\"-------------------------\")\n",
    "print(f\"Total Votes: {total_votes}\")\n",
    "print(f\"-------------------------\")\n",
    "for key, velue in candidates_votes.items():\n",
    "    print(key,':' , str(percent_candidates_votes[key]),'%','  ','(',candidates_votes[key],')')\n",
    "print(f\"-------------------------\")\n",
    "print(f\"Winner: {winner}\")\n",
    "print(f\"-------------------------\")\n",
    "\n",
    "# open the output file and write the result to the csv\n",
    "with open(output_file, \"w\") as text:\n",
    "    text.write(f\"Election Results\\n\")\n",
    "    text.write(f\"-------------------------\\n\")\n",
    "    text.write(f\"Total Votes: {total_votes}\\n\")\n",
    "    text.write(\"-------------------------\\n\")\n",
    "    for key, velue in candidates_votes.items():\n",
    "        text.write(f\"{key}: {str(percent_candidates_votes[key])}%   ({candidates_votes[key]})\\n\")\n",
    "    text.write(f\"-------------------------\\n\")\n",
    "    text.write(f\"Winner: {winner}\\n\")\n",
    "    text.write(f\"-------------------------\\n\")\n",
    "             "
   ]
  },
  {
   "cell_type": "code",
   "execution_count": null,
   "metadata": {},
   "outputs": [],
   "source": []
  }
 ],
 "metadata": {
  "kernelspec": {
   "display_name": "Python 3",
   "language": "python",
   "name": "python3"
  },
  "language_info": {
   "codemirror_mode": {
    "name": "ipython",
    "version": 3
   },
   "file_extension": ".py",
   "mimetype": "text/x-python",
   "name": "python",
   "nbconvert_exporter": "python",
   "pygments_lexer": "ipython3",
   "version": "3.8.3"
  }
 },
 "nbformat": 4,
 "nbformat_minor": 4
}
