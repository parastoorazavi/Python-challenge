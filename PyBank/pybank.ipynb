{
 "cells": [
  {
   "cell_type": "code",
   "execution_count": 31,
   "metadata": {},
   "outputs": [
    {
     "name": "stdout",
     "output_type": "stream",
     "text": [
      "Financial Analysis\n",
      "----------------------------\n",
      "Total Months: 86\n",
      "Total: $38382578\n",
      "Average Change: $-2315.12\n",
      "Greatest Increase in Profits: Feb-2012($1926159)\n",
      "Greatest Decrease in Profits: Sep-2013($-2196167)\n"
     ]
    }
   ],
   "source": [
    "import os\n",
    "import csv\n",
    "\n",
    "\n",
    "find_path = \"Resources/02-Homework_03-Python_Instructions_PyBank_Resources_budget_data.csv\"\n",
    "output_file = \"Financial Analysis.csv\"\n",
    "\n",
    "with open(find_path) as csv_file:\n",
    "   \n",
    "    csv_reader = csv.reader(csv_file, delimiter=',')\n",
    "    csv_header = next(csv_reader)\n",
    "    \n",
    "    total_months = 0\n",
    "    total = 0\n",
    "    second_row = 0\n",
    "    first_row = 0\n",
    "    month_change = 0\n",
    "    total_month_change = []\n",
    "    date = []\n",
    "\n",
    "    \n",
    "    for row in csv_reader:\n",
    "        \n",
    "        \n",
    "        total_months += 1\n",
    "        \n",
    "        first_row = int(row[1])\n",
    "        total += int(row[1])\n",
    "        \n",
    "        if (total_months==1):\n",
    "            second_row = first_row\n",
    "            \n",
    "        else:\n",
    "            month_change = first_row - second_row\n",
    "            date.append(row[0])\n",
    "            total_month_change.append(month_change)\n",
    "            second_row = first_row\n",
    "    average = round(sum(total_month_change)/(total_months - 1), 2)\n",
    "        \n",
    "    greatest_increase = max(total_month_change)\n",
    "    greatest_decrease = min(total_month_change)\n",
    "        \n",
    "    increase_date = date[total_month_change.index(greatest_increase)]\n",
    "    decrease_date = date[total_month_change.index(greatest_decrease)]\n",
    "        \n",
    "    print(f\"Financial Analysis\")\n",
    "    print(f\"----------------------------\")\n",
    "    print(f\"Total Months: {total_months}\")\n",
    "    print(f\"Total: ${total}\")\n",
    "    print(f\"Average Change: ${average}\")\n",
    "    print(f\"Greatest Increase in Profits: {increase_date}(${greatest_increase})\")\n",
    "    print(f\"Greatest Decrease in Profits: {decrease_date}(${greatest_decrease})\")\n",
    "    \n",
    "with open(output_file, \"w\") as text:\n",
    "    text.write(f\"Financial Analysis\\n\")\n",
    "    text.write(f\"----------------------------\\n\")\n",
    "    text.write(f\"Total Months: {total_months}\\n\")\n",
    "    text.write(f\"Total: ${total}\\n\")\n",
    "    text.write(f\"Average Change: ${average}\\n\")\n",
    "    text.write(f\"Greatest Increase in Profits: {increase_date}(${greatest_increase})\\n\")\n",
    "    text.write(f\"Greatest Decrease in Profits: {decrease_date}(${greatest_decrease})\")\n"
   ]
  }
 ],
 "metadata": {
  "kernelspec": {
   "display_name": "Python 3",
   "language": "python",
   "name": "python3"
  },
  "language_info": {
   "codemirror_mode": {
    "name": "ipython",
    "version": 3
   },
   "file_extension": ".py",
   "mimetype": "text/x-python",
   "name": "python",
   "nbconvert_exporter": "python",
   "pygments_lexer": "ipython3",
   "version": "3.8.3"
  }
 },
 "nbformat": 4,
 "nbformat_minor": 4
}
